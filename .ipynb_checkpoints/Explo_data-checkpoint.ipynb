{
 "cells": [
  {
   "cell_type": "code",
   "execution_count": 1,
   "metadata": {},
   "outputs": [],
   "source": [
    "import pandas as pd\n",
    "import numpy as np"
   ]
  },
  {
   "cell_type": "code",
   "execution_count": 2,
   "metadata": {},
   "outputs": [
    {
     "data": {
      "text/html": [
       "<div>\n",
       "<style scoped>\n",
       "    .dataframe tbody tr th:only-of-type {\n",
       "        vertical-align: middle;\n",
       "    }\n",
       "\n",
       "    .dataframe tbody tr th {\n",
       "        vertical-align: top;\n",
       "    }\n",
       "\n",
       "    .dataframe thead th {\n",
       "        text-align: right;\n",
       "    }\n",
       "</style>\n",
       "<table border=\"1\" class=\"dataframe\">\n",
       "  <thead>\n",
       "    <tr style=\"text-align: right;\">\n",
       "      <th></th>\n",
       "      <th>id</th>\n",
       "      <th>title</th>\n",
       "      <th>langage</th>\n",
       "      <th>type</th>\n",
       "      <th>keywords</th>\n",
       "      <th>concepts</th>\n",
       "    </tr>\n",
       "  </thead>\n",
       "  <tbody>\n",
       "    <tr>\n",
       "      <th>0</th>\n",
       "      <td>1228</td>\n",
       "      <td>Data, information, design and traffic injuries...</td>\n",
       "      <td>en</td>\n",
       "      <td>mp4</td>\n",
       "      <td>[design, know, information design, people, thi...</td>\n",
       "      <td>['http://en.wikipedia.org/wiki/Information_des...</td>\n",
       "    </tr>\n",
       "    <tr>\n",
       "      <th>1</th>\n",
       "      <td>4796</td>\n",
       "      <td>Uncertain Allies</td>\n",
       "      <td>en</td>\n",
       "      <td>pdf</td>\n",
       "      <td>[north korea, korea, china, north, pyongyang, ...</td>\n",
       "      <td>['http://en.wikipedia.org/wiki/North_Korea', '...</td>\n",
       "    </tr>\n",
       "    <tr>\n",
       "      <th>2</th>\n",
       "      <td>6930</td>\n",
       "      <td>Classification of Web Documents Using a Graph-...</td>\n",
       "      <td>en</td>\n",
       "      <td>mp4</td>\n",
       "      <td>[subgraph, graph, document, contrast, classifi...</td>\n",
       "      <td>['http://en.wikipedia.org/wiki/Hello', 'http:/...</td>\n",
       "    </tr>\n",
       "    <tr>\n",
       "      <th>3</th>\n",
       "      <td>7867</td>\n",
       "      <td>Cell and Molecular Neurobiology</td>\n",
       "      <td>en</td>\n",
       "      <td>pdf</td>\n",
       "      <td>[edition, academic press, molecular, 2nd editi...</td>\n",
       "      <td>['http://en.wikipedia.org/wiki/Massachusetts_I...</td>\n",
       "    </tr>\n",
       "    <tr>\n",
       "      <th>4</th>\n",
       "      <td>8160</td>\n",
       "      <td>Advanced Fluid Dynamics of the Environment</td>\n",
       "      <td>en</td>\n",
       "      <td>pdf</td>\n",
       "      <td>[fluid, eddy viscosity, result velocity, fluid...</td>\n",
       "      <td>['http://en.wikipedia.org/wiki/Homework', 'htt...</td>\n",
       "    </tr>\n",
       "  </tbody>\n",
       "</table>\n",
       "</div>"
      ],
      "text/plain": [
       "     id                                              title langage type  \\\n",
       "0  1228  Data, information, design and traffic injuries...      en  mp4   \n",
       "1  4796                                   Uncertain Allies      en  pdf   \n",
       "2  6930  Classification of Web Documents Using a Graph-...      en  mp4   \n",
       "3  7867                    Cell and Molecular Neurobiology      en  pdf   \n",
       "4  8160         Advanced Fluid Dynamics of the Environment      en  pdf   \n",
       "\n",
       "                                            keywords  \\\n",
       "0  [design, know, information design, people, thi...   \n",
       "1  [north korea, korea, china, north, pyongyang, ...   \n",
       "2  [subgraph, graph, document, contrast, classifi...   \n",
       "3  [edition, academic press, molecular, 2nd editi...   \n",
       "4  [fluid, eddy viscosity, result velocity, fluid...   \n",
       "\n",
       "                                            concepts  \n",
       "0  ['http://en.wikipedia.org/wiki/Information_des...  \n",
       "1  ['http://en.wikipedia.org/wiki/North_Korea', '...  \n",
       "2  ['http://en.wikipedia.org/wiki/Hello', 'http:/...  \n",
       "3  ['http://en.wikipedia.org/wiki/Massachusetts_I...  \n",
       "4  ['http://en.wikipedia.org/wiki/Homework', 'htt...  "
      ]
     },
     "execution_count": 2,
     "metadata": {},
     "output_type": "execute_result"
    }
   ],
   "source": [
    "# importation\n",
    "#pdf = df.groupby('title').count()\n",
    "#print(pdf)\n",
    "df = pd.read_csv('dataset.tsv', sep='\\t', header=0)\n",
    "df.head(5)"
   ]
  },
  {
   "cell_type": "code",
   "execution_count": 3,
   "metadata": {},
   "outputs": [],
   "source": [
    "def MeanAndMedianArrayLength(df, colname):\n",
    "    mean = 0\n",
    "    median_tab = []\n",
    "    for i in range(0, len(df)):\n",
    "        add = len(df.loc[i,colname].replace(\"[\", \"\").replace(\"]\", \"\").replace(\"'\", \"\").replace(\" \", \"\").split(\",\"))\n",
    "        mean += add\n",
    "        median_tab.append(add)\n",
    "    mean = mean / len(df)\n",
    "    print(\"mean of \" + colname + \" numbers : \" + str(mean))\n",
    "    median_tab = np.sort(np.array(median_tab))\n",
    "    middle = int(len(median_tab)/2)\n",
    "    if len(median_tab) % 2 == 0:\n",
    "        print(\"median of \" + colname + \" numbers : \" + str((median_tab[middle-1] + median_tab[middle]) / 2) + \"\\n\")\n",
    "    else:\n",
    "        print(\"median of \" + colname + \" numbers : \" + str(median_tab[middle]) + \"\\n\")\n",
    "\n",
    "# mean concept and keywords number per document\n",
    "MeanAndMedianArrayLength(df, \"concepts\")\n",
    "MeanAndMedianArrayLength(df, \"keywords\")"
   ]
  },
  {
   "cell_type": "code",
   "execution_count": 1,
   "metadata": {},
   "outputs": [],
   "source": [
    "# Create Graph\n",
    "\n",
    "# Blank node _x = une ressource\n",
    "# _x :title col.title\n",
    "# _x :id col.id\n",
    "# _x :language col.langage\n",
    "# _x :type col.type\n",
    "# _x :keyword :design\n",
    "# _x :concept :URI_DBPEDIA/ressource\n",
    "\n",
    "# :design rdf:type :keyword\n",
    "\n",
    "# :URI_DBPEDIA/ressource rdf:type :concept\n",
    "\n",
    "# Détecter les ressources qui ont un caractère proche"
   ]
  },
  {
   "cell_type": "markdown",
   "metadata": {},
   "source": [
    "### How to request the fuseki's API"
   ]
  },
  {
   "cell_type": "code",
   "execution_count": null,
   "metadata": {},
   "outputs": [],
   "source": [
    "import requests\n",
    "response = requests.post('http://localhost:3030/your_service/sparql',\n",
    "       data={'query': 'ASK { ?s ?p ?o . }'})\n",
    "print(response.json())"
   ]
  }
 ],
 "metadata": {
  "kernelspec": {
   "display_name": "Python 3",
   "language": "python",
   "name": "python3"
  },
  "language_info": {
   "codemirror_mode": {
    "name": "ipython",
    "version": 3
   },
   "file_extension": ".py",
   "mimetype": "text/x-python",
   "name": "python",
   "nbconvert_exporter": "python",
   "pygments_lexer": "ipython3",
   "version": "3.7.3"
  }
 },
 "nbformat": 4,
 "nbformat_minor": 2
}
