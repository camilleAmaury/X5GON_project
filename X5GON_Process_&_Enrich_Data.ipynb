{
  "nbformat": 4,
  "nbformat_minor": 0,
  "metadata": {
    "colab": {
      "name": "X5GON Process & Enrich Data.ipynb",
      "provenance": [],
      "collapsed_sections": []
    },
    "kernelspec": {
      "name": "python3",
      "display_name": "Python 3"
    }
  },
  "cells": [
    {
      "cell_type": "markdown",
      "metadata": {
        "id": "p9OZiGA9bSp8",
        "colab_type": "text"
      },
      "source": [
        "### **Import Dataset**"
      ]
    },
    {
      "cell_type": "code",
      "metadata": {
        "id": "fCZk606BUzvY",
        "colab_type": "code",
        "outputId": "77ddf99d-f173-4241-da4e-63a5330c4631",
        "colab": {
          "base_uri": "https://localhost:8080/",
          "height": 221
        }
      },
      "source": [
        "! mkdir datasets\n",
        "! wget https://uncloud.univ-nantes.fr/index.php/s/r6W7oixMM48P59k/download\n",
        "! mv download datasets/catalogue.tsv"
      ],
      "execution_count": 20,
      "outputs": [
        {
          "output_type": "stream",
          "text": [
            "mkdir: cannot create directory ‘datasets’: File exists\n",
            "--2019-12-03 22:07:44--  https://uncloud.univ-nantes.fr/index.php/s/r6W7oixMM48P59k/download\n",
            "Resolving uncloud.univ-nantes.fr (uncloud.univ-nantes.fr)... 193.52.104.60, 2001:660:7220:386:193:52:104:60\n",
            "Connecting to uncloud.univ-nantes.fr (uncloud.univ-nantes.fr)|193.52.104.60|:443... connected.\n",
            "HTTP request sent, awaiting response... 200 OK\n",
            "Length: 72971322 (70M) [application/octet-stream]\n",
            "Saving to: ‘download’\n",
            "\n",
            "download            100%[===================>]  69.59M  10.5MB/s    in 8.7s    \n",
            "\n",
            "2019-12-03 22:07:54 (7.98 MB/s) - ‘download’ saved [72971322/72971322]\n",
            "\n"
          ],
          "name": "stdout"
        }
      ]
    },
    {
      "cell_type": "markdown",
      "metadata": {
        "id": "CrG8xSQabGCc",
        "colab_type": "text"
      },
      "source": [
        "### **Explore Dataset**"
      ]
    },
    {
      "cell_type": "code",
      "metadata": {
        "id": "AgVquOWgVSD9",
        "colab_type": "code",
        "colab": {}
      },
      "source": [
        "import pandas as pd\n",
        "import numpy as np"
      ],
      "execution_count": 0,
      "outputs": []
    },
    {
      "cell_type": "code",
      "metadata": {
        "id": "Vha55wmPVl-F",
        "colab_type": "code",
        "colab": {
          "base_uri": "https://localhost:8080/",
          "height": 204
        },
        "outputId": "718afae6-6c40-4298-af43-3eeaa8571b69"
      },
      "source": [
        "list_parser = lambda x: x[1:-1].split(',')\n",
        "df = pd.read_csv(\"datasets/catalogue.tsv\",\n",
        "                        sep=\"\\t\",\n",
        "                        converters={'keywords': list_parser,\n",
        "                                    \"concepts\": list_parser})\n",
        "# This is added in case initial dataset hasn't the right columns names:\n",
        "df.columns = ['id', 'title', 'language', 'type', 'keywords', 'concepts']\n",
        "df.head(5)"
      ],
      "execution_count": 55,
      "outputs": [
        {
          "output_type": "execute_result",
          "data": {
            "text/html": [
              "<div>\n",
              "<style scoped>\n",
              "    .dataframe tbody tr th:only-of-type {\n",
              "        vertical-align: middle;\n",
              "    }\n",
              "\n",
              "    .dataframe tbody tr th {\n",
              "        vertical-align: top;\n",
              "    }\n",
              "\n",
              "    .dataframe thead th {\n",
              "        text-align: right;\n",
              "    }\n",
              "</style>\n",
              "<table border=\"1\" class=\"dataframe\">\n",
              "  <thead>\n",
              "    <tr style=\"text-align: right;\">\n",
              "      <th></th>\n",
              "      <th>id</th>\n",
              "      <th>title</th>\n",
              "      <th>language</th>\n",
              "      <th>type</th>\n",
              "      <th>keywords</th>\n",
              "      <th>concepts</th>\n",
              "    </tr>\n",
              "  </thead>\n",
              "  <tbody>\n",
              "    <tr>\n",
              "      <th>0</th>\n",
              "      <td>1228</td>\n",
              "      <td>Data, information, design and traffic injuries...</td>\n",
              "      <td>en</td>\n",
              "      <td>mp4</td>\n",
              "      <td>[design,  know,  information design,  people, ...</td>\n",
              "      <td>['http://en.wikipedia.org/wiki/Information_des...</td>\n",
              "    </tr>\n",
              "    <tr>\n",
              "      <th>1</th>\n",
              "      <td>4796</td>\n",
              "      <td>Uncertain Allies</td>\n",
              "      <td>en</td>\n",
              "      <td>pdf</td>\n",
              "      <td>[north korea,  korea,  china,  north,  pyongya...</td>\n",
              "      <td>['http://en.wikipedia.org/wiki/North_Korea',  ...</td>\n",
              "    </tr>\n",
              "    <tr>\n",
              "      <th>2</th>\n",
              "      <td>6930</td>\n",
              "      <td>Classification of Web Documents Using a Graph-...</td>\n",
              "      <td>en</td>\n",
              "      <td>mp4</td>\n",
              "      <td>[subgraph,  graph,  document,  contrast,  clas...</td>\n",
              "      <td>['http://en.wikipedia.org/wiki/Hello',  'http:...</td>\n",
              "    </tr>\n",
              "    <tr>\n",
              "      <th>3</th>\n",
              "      <td>7867</td>\n",
              "      <td>Cell and Molecular Neurobiology</td>\n",
              "      <td>en</td>\n",
              "      <td>pdf</td>\n",
              "      <td>[edition,  academic press,  molecular,  2nd ed...</td>\n",
              "      <td>['http://en.wikipedia.org/wiki/Massachusetts_I...</td>\n",
              "    </tr>\n",
              "    <tr>\n",
              "      <th>4</th>\n",
              "      <td>8160</td>\n",
              "      <td>Advanced Fluid Dynamics of the Environment</td>\n",
              "      <td>en</td>\n",
              "      <td>pdf</td>\n",
              "      <td>[fluid,  eddy viscosity,  result velocity,  fl...</td>\n",
              "      <td>['http://en.wikipedia.org/wiki/Homework',  'ht...</td>\n",
              "    </tr>\n",
              "  </tbody>\n",
              "</table>\n",
              "</div>"
            ],
            "text/plain": [
              "     id  ...                                           concepts\n",
              "0  1228  ...  ['http://en.wikipedia.org/wiki/Information_des...\n",
              "1  4796  ...  ['http://en.wikipedia.org/wiki/North_Korea',  ...\n",
              "2  6930  ...  ['http://en.wikipedia.org/wiki/Hello',  'http:...\n",
              "3  7867  ...  ['http://en.wikipedia.org/wiki/Massachusetts_I...\n",
              "4  8160  ...  ['http://en.wikipedia.org/wiki/Homework',  'ht...\n",
              "\n",
              "[5 rows x 6 columns]"
            ]
          },
          "metadata": {
            "tags": []
          },
          "execution_count": 55
        }
      ]
    },
    {
      "cell_type": "code",
      "metadata": {
        "id": "q5Hv40zzWMEU",
        "colab_type": "code",
        "colab": {
          "base_uri": "https://localhost:8080/",
          "height": 119
        },
        "outputId": "82333a34-a90e-44b9-d819-aa545fa2a422"
      },
      "source": [
        "def MeanAndMedianArrayLength(df, colname):\n",
        "    mean = 0\n",
        "    median_tab = []\n",
        "    for i in range(0, len(df)):\n",
        "        add = len(df.loc[i,colname])\n",
        "        mean += add\n",
        "        median_tab.append(add)\n",
        "    mean = mean / len(df)\n",
        "    print(\"mean of \" + colname + \" numbers : \" + str(mean))\n",
        "    median_tab = np.sort(np.array(median_tab))\n",
        "    middle = int(len(median_tab)/2)\n",
        "    if len(median_tab) % 2 == 0:\n",
        "        print(\"median of \" + colname + \" numbers : \" + str((median_tab[middle-1] + median_tab[middle]) / 2) + \"\\n\")\n",
        "    else:\n",
        "        print(\"median of \" + colname + \" numbers : \" + str(median_tab[middle]) + \"\\n\")\n",
        "\n",
        "# mean concept and keywords number per document\n",
        "MeanAndMedianArrayLength(df, \"concepts\")\n",
        "MeanAndMedianArrayLength(df, \"keywords\")"
      ],
      "execution_count": 23,
      "outputs": [
        {
          "output_type": "stream",
          "text": [
            "mean of concepts numbers : 10.03375\n",
            "median of concepts numbers : 10.0\n",
            "\n",
            "mean of keywords numbers : 19.80065\n",
            "median of keywords numbers : 20.0\n",
            "\n"
          ],
          "name": "stdout"
        }
      ]
    },
    {
      "cell_type": "code",
      "metadata": {
        "id": "yp6--Zpzf2Tq",
        "colab_type": "code",
        "colab": {}
      },
      "source": [
        "# Eliminate languages different than \"en\"\n",
        "non_english = df[df.language != \"en\"].index.tolist()\n",
        "columns = df.columns\n",
        "new_df = []\n",
        "for i in range(0, len(df)):\n",
        "  if i not in non_english:\n",
        "    new_df.append(df.loc[i].tolist())\n",
        "df = pd.DataFrame(new_df, columns = columns) "
      ],
      "execution_count": 0,
      "outputs": []
    },
    {
      "cell_type": "code",
      "metadata": {
        "id": "f-k_0NEB6vbw",
        "colab_type": "code",
        "colab": {
          "base_uri": "https://localhost:8080/",
          "height": 419
        },
        "outputId": "6babe17d-e722-4df8-98ca-69ef5d26f796"
      },
      "source": [
        "df.head(-5)"
      ],
      "execution_count": 59,
      "outputs": [
        {
          "output_type": "execute_result",
          "data": {
            "text/html": [
              "<div>\n",
              "<style scoped>\n",
              "    .dataframe tbody tr th:only-of-type {\n",
              "        vertical-align: middle;\n",
              "    }\n",
              "\n",
              "    .dataframe tbody tr th {\n",
              "        vertical-align: top;\n",
              "    }\n",
              "\n",
              "    .dataframe thead th {\n",
              "        text-align: right;\n",
              "    }\n",
              "</style>\n",
              "<table border=\"1\" class=\"dataframe\">\n",
              "  <thead>\n",
              "    <tr style=\"text-align: right;\">\n",
              "      <th></th>\n",
              "      <th>id</th>\n",
              "      <th>title</th>\n",
              "      <th>language</th>\n",
              "      <th>type</th>\n",
              "      <th>keywords</th>\n",
              "      <th>concepts</th>\n",
              "    </tr>\n",
              "  </thead>\n",
              "  <tbody>\n",
              "    <tr>\n",
              "      <th>0</th>\n",
              "      <td>1228</td>\n",
              "      <td>Data, information, design and traffic injuries...</td>\n",
              "      <td>en</td>\n",
              "      <td>mp4</td>\n",
              "      <td>[design,  know,  information design,  people, ...</td>\n",
              "      <td>['http://en.wikipedia.org/wiki/Information_des...</td>\n",
              "    </tr>\n",
              "    <tr>\n",
              "      <th>1</th>\n",
              "      <td>4796</td>\n",
              "      <td>Uncertain Allies</td>\n",
              "      <td>en</td>\n",
              "      <td>pdf</td>\n",
              "      <td>[north korea,  korea,  china,  north,  pyongya...</td>\n",
              "      <td>['http://en.wikipedia.org/wiki/North_Korea',  ...</td>\n",
              "    </tr>\n",
              "    <tr>\n",
              "      <th>2</th>\n",
              "      <td>6930</td>\n",
              "      <td>Classification of Web Documents Using a Graph-...</td>\n",
              "      <td>en</td>\n",
              "      <td>mp4</td>\n",
              "      <td>[subgraph,  graph,  document,  contrast,  clas...</td>\n",
              "      <td>['http://en.wikipedia.org/wiki/Hello',  'http:...</td>\n",
              "    </tr>\n",
              "    <tr>\n",
              "      <th>3</th>\n",
              "      <td>7867</td>\n",
              "      <td>Cell and Molecular Neurobiology</td>\n",
              "      <td>en</td>\n",
              "      <td>pdf</td>\n",
              "      <td>[edition,  academic press,  molecular,  2nd ed...</td>\n",
              "      <td>['http://en.wikipedia.org/wiki/Massachusetts_I...</td>\n",
              "    </tr>\n",
              "    <tr>\n",
              "      <th>4</th>\n",
              "      <td>8160</td>\n",
              "      <td>Advanced Fluid Dynamics of the Environment</td>\n",
              "      <td>en</td>\n",
              "      <td>pdf</td>\n",
              "      <td>[fluid,  eddy viscosity,  result velocity,  fl...</td>\n",
              "      <td>['http://en.wikipedia.org/wiki/Homework',  'ht...</td>\n",
              "    </tr>\n",
              "    <tr>\n",
              "      <th>...</th>\n",
              "      <td>...</td>\n",
              "      <td>...</td>\n",
              "      <td>...</td>\n",
              "      <td>...</td>\n",
              "      <td>...</td>\n",
              "      <td>...</td>\n",
              "    </tr>\n",
              "    <tr>\n",
              "      <th>95191</th>\n",
              "      <td>102981</td>\n",
              "      <td>2.5 Motion Equations for Constant Acceleration...</td>\n",
              "      <td>en</td>\n",
              "      <td>html</td>\n",
              "      <td>[size,  rsub size,  rsub,  size rsub,  rsup,  ...</td>\n",
              "      <td>['http://en.wikipedia.org/wiki/Bracket',  'htt...</td>\n",
              "    </tr>\n",
              "    <tr>\n",
              "      <th>95192</th>\n",
              "      <td>103078</td>\n",
              "      <td>Test Prep for AP® Courses</td>\n",
              "      <td>en</td>\n",
              "      <td>html</td>\n",
              "      <td>[adhesion,  cohesion,  water,  water molecule,...</td>\n",
              "      <td>['http://en.wikipedia.org/wiki/Canning',  'htt...</td>\n",
              "    </tr>\n",
              "    <tr>\n",
              "      <th>95193</th>\n",
              "      <td>110586</td>\n",
              "      <td>Practice Test</td>\n",
              "      <td>en</td>\n",
              "      <td>html</td>\n",
              "      <td>[near tenth,  tenth,  inch,  near,  foot,  ang...</td>\n",
              "      <td>['http://en.wikipedia.org/wiki/Practice_of_law...</td>\n",
              "    </tr>\n",
              "    <tr>\n",
              "      <th>95194</th>\n",
              "      <td>113136</td>\n",
              "      <td>Working the Net</td>\n",
              "      <td>en</td>\n",
              "      <td>html</td>\n",
              "      <td>[manufacturers,  search engine,  supplier,  se...</td>\n",
              "      <td>['http://en.wikipedia.org/wiki/Use',  'http://...</td>\n",
              "    </tr>\n",
              "    <tr>\n",
              "      <th>95195</th>\n",
              "      <td>113341</td>\n",
              "      <td>Practice Test</td>\n",
              "      <td>en</td>\n",
              "      <td>html</td>\n",
              "      <td>[1x,  follow exercise,  function,  exercise,  ...</td>\n",
              "      <td>['http://en.wikipedia.org/wiki/Fornax',  'http...</td>\n",
              "    </tr>\n",
              "  </tbody>\n",
              "</table>\n",
              "<p>95196 rows × 6 columns</p>\n",
              "</div>"
            ],
            "text/plain": [
              "           id  ...                                           concepts\n",
              "0        1228  ...  ['http://en.wikipedia.org/wiki/Information_des...\n",
              "1        4796  ...  ['http://en.wikipedia.org/wiki/North_Korea',  ...\n",
              "2        6930  ...  ['http://en.wikipedia.org/wiki/Hello',  'http:...\n",
              "3        7867  ...  ['http://en.wikipedia.org/wiki/Massachusetts_I...\n",
              "4        8160  ...  ['http://en.wikipedia.org/wiki/Homework',  'ht...\n",
              "...       ...  ...                                                ...\n",
              "95191  102981  ...  ['http://en.wikipedia.org/wiki/Bracket',  'htt...\n",
              "95192  103078  ...  ['http://en.wikipedia.org/wiki/Canning',  'htt...\n",
              "95193  110586  ...  ['http://en.wikipedia.org/wiki/Practice_of_law...\n",
              "95194  113136  ...  ['http://en.wikipedia.org/wiki/Use',  'http://...\n",
              "95195  113341  ...  ['http://en.wikipedia.org/wiki/Fornax',  'http...\n",
              "\n",
              "[95196 rows x 6 columns]"
            ]
          },
          "metadata": {
            "tags": []
          },
          "execution_count": 59
        }
      ]
    },
    {
      "cell_type": "markdown",
      "metadata": {
        "id": "iX1imUogXtqL",
        "colab_type": "text"
      },
      "source": [
        "### **How to request the fuseki's API**\n",
        "\n",
        "First install the module SPARQLWrapper with anaconda's terminal :\n",
        "- *Choose the right environnement*\n",
        "- *Write this piece of code : 'pip install SPARQLWrapper'*\n",
        "- *Documentation : https://rdflib.github.io/sparqlwrapper/*\n",
        "\n",
        "Next you need to deploy the Fuseki's server :\n",
        "- *Go to \"/fuseki_server/\" folder*\n",
        "- *Launch the \"/fuseki-server.bat*"
      ]
    },
    {
      "cell_type": "code",
      "metadata": {
        "id": "enxP9xlcYLD6",
        "colab_type": "code",
        "colab": {
          "base_uri": "https://localhost:8080/",
          "height": 102
        },
        "outputId": "96baec13-3547-4ae6-8b73-73927ceabcfa"
      },
      "source": [
        "!pip install SPARQLWrapper"
      ],
      "execution_count": 17,
      "outputs": [
        {
          "output_type": "stream",
          "text": [
            "Requirement already satisfied: SPARQLWrapper in /usr/local/lib/python3.6/dist-packages (1.8.4)\n",
            "Requirement already satisfied: rdflib>=4.0 in /usr/local/lib/python3.6/dist-packages (from SPARQLWrapper) (4.2.2)\n",
            "Requirement already satisfied: isodate in /usr/local/lib/python3.6/dist-packages (from rdflib>=4.0->SPARQLWrapper) (0.6.0)\n",
            "Requirement already satisfied: pyparsing in /usr/local/lib/python3.6/dist-packages (from rdflib>=4.0->SPARQLWrapper) (2.4.5)\n",
            "Requirement already satisfied: six in /usr/local/lib/python3.6/dist-packages (from isodate->rdflib>=4.0->SPARQLWrapper) (1.12.0)\n"
          ],
          "name": "stdout"
        }
      ]
    },
    {
      "cell_type": "code",
      "metadata": {
        "id": "TDd4nvYaZEcb",
        "colab_type": "code",
        "colab": {
          "base_uri": "https://localhost:8080/",
          "height": 646
        },
        "outputId": "944b9309-f0e1-4ce6-e5b3-5c264a2c245d"
      },
      "source": [
        "from SPARQLWrapper import SPARQLWrapper, JSON\n",
        "\n",
        "server_URL = \"http://localhost:3030/your_service/sparql\"\n",
        "\n",
        "# function which create\n",
        "\n",
        "sparql = SPARQLWrapper(server_URL)\n",
        "\n",
        "for i in range(0, 1):#len(df)):\n",
        "  string_constructor = \"PREFIX dcterms: <http://purl.org/dc/terms/>\\nINSERT DATA{\"\n",
        "  # id\n",
        "  string_constructor += \"\\n   <http://x5gon/bjk/{}> dcterms:identifier {} ;\".format(df.loc[i, \"id\"],df.loc[i, \"id\"])\n",
        "  # type\n",
        "  string_constructor += \"\\n       dcterms:format {} ;\".format('\"' + df.loc[i, \"type\"] + '\"')\n",
        "  # titre\n",
        "  string_constructor += \"\\n       dcterms:title {} ;\".format('\"' + df.loc[i, \"title\"] + '\"')\n",
        "  # keywords\n",
        "  keywords = df.loc[i, \"keywords\"]\n",
        "  for j in range(0, len(keywords)):\n",
        "    string_constructor += \"\\n       dcterms:subject {} ;\".format('\"' + keywords[j] + '\"')\n",
        "  # concept\n",
        "  concepts = df.loc[i, \"concepts\"]\n",
        "  for j in range(0, len(concepts)):\n",
        "    URI = concepts[j].split(\"/\")\n",
        "    URI = URI[len(URI)-1]\n",
        "    URI = URI[0:len(URI)-1]\n",
        "    string_constructor += \"\\n       dcterms:concept {} ;\".format('<' + \"http://dbpedia.org/page/\" + URI + '>')\n",
        "  # language\n",
        "  string_constructor += \"\\n       dcterms:language {} .\".format('\"' + df.loc[i, \"language\"] + '\"')\n",
        "  string_constructor += \"\\n}\"\n",
        "  if i == 0:\n",
        "    print(string_constructor)\n",
        "\n",
        "#sparql.setQuery()\n",
        "#sparql.setReturnFormat(JSON)\n",
        "#results = sparql.query().convert()\n",
        "\n",
        "#for result in results[\"results\"][\"bindings\"]:\n",
        "    #print(result[\"label\"][\"value\"])"
      ],
      "execution_count": 64,
      "outputs": [
        {
          "output_type": "stream",
          "text": [
            "PREFIX dcterms: <http://purl.org/dc/terms/>\n",
            "INSERT DATA{\n",
            "   <http://x5gon/bjk/1228> dcterms:identifier 1228 ;\n",
            "       dcterms:format \"mp4\" ;\n",
            "       dcterms:title \"Data, information, design and traffic injuries / Podatki, informacije, oblikovanje in prometne poškodbe\" ;\n",
            "       dcterms:subject \"design\" ;\n",
            "       dcterms:subject \" know\" ;\n",
            "       dcterms:subject \" information design\" ;\n",
            "       dcterms:subject \" people\" ;\n",
            "       dcterms:subject \" thing\" ;\n",
            "       dcterms:subject \" traffic\" ;\n",
            "       dcterms:subject \" communication\" ;\n",
            "       dcterms:subject \" communication design\" ;\n",
            "       dcterms:subject \" graphic\" ;\n",
            "       dcterms:subject \" talk\" ;\n",
            "       dcterms:subject \" campaign\" ;\n",
            "       dcterms:subject \" understand\" ;\n",
            "       dcterms:subject \" injury\" ;\n",
            "       dcterms:subject \" come\" ;\n",
            "       dcterms:subject \" bus\" ;\n",
            "       dcterms:subject \" work\" ;\n",
            "       dcterms:subject \" year\" ;\n",
            "       dcterms:subject \" hospital\" ;\n",
            "       dcterms:subject \" problem\" ;\n",
            "       dcterms:subject \" graphic design\" ;\n",
            "       dcterms:concept <http://dbpedia.org/page/Information_design> ;\n",
            "       dcterms:concept <http://dbpedia.org/page/Communication_design> ;\n",
            "       dcterms:concept <http://dbpedia.org/page/Graphic_design> ;\n",
            "       dcterms:concept <http://dbpedia.org/page/Communication> ;\n",
            "       dcterms:concept <http://dbpedia.org/page/Computer> ;\n",
            "       dcterms:concept <http://dbpedia.org/page/Visual_communication> ;\n",
            "       dcterms:concept <http://dbpedia.org/page/Information> ;\n",
            "       dcterms:concept <http://dbpedia.org/page/Road_traffic_safety> ;\n",
            "       dcterms:concept <http://dbpedia.org/page/Design> ;\n",
            "       dcterms:concept <http://dbpedia.org/page/United_States> ;\n",
            "       dcterms:language \"en\" .\n",
            "}\n"
          ],
          "name": "stdout"
        }
      ]
    }
  ]
}