{
  "nbformat": 4,
  "nbformat_minor": 0,
  "metadata": {
    "colab": {
      "name": "X5GON Process.ipynb",
      "provenance": [],
      "collapsed_sections": []
    },
    "kernelspec": {
      "name": "python3",
      "display_name": "Python 3"
    }
  },
  "cells": [
    {
      "cell_type": "markdown",
      "metadata": {
        "id": "p9OZiGA9bSp8",
        "colab_type": "text"
      },
      "source": [
        "### **Import Dataset**"
      ]
    },
    {
      "cell_type": "code",
      "metadata": {
        "id": "fCZk606BUzvY",
        "colab_type": "code",
        "outputId": "3dee3c4b-1efc-4ff7-bc49-a189220f0041",
        "colab": {
          "base_uri": "https://localhost:8080/",
          "height": 210
        }
      },
      "source": [
        "! mkdir datasets\n",
        "! wget https://uncloud.univ-nantes.fr/index.php/s/r6W7oixMM48P59k/download\n",
        "! mv download datasets/catalogue.tsv"
      ],
      "execution_count": 0,
      "outputs": [
        {
          "output_type": "stream",
          "text": [
            "--2019-12-06 21:02:50--  https://uncloud.univ-nantes.fr/index.php/s/r6W7oixMM48P59k/download\n",
            "Resolving uncloud.univ-nantes.fr (uncloud.univ-nantes.fr)... 193.52.104.60, 2001:660:7220:386:193:52:104:60\n",
            "Connecting to uncloud.univ-nantes.fr (uncloud.univ-nantes.fr)|193.52.104.60|:443... connected.\n",
            "HTTP request sent, awaiting response... 200 OK\n",
            "Length: 72971322 (70M) [application/octet-stream]\n",
            "Saving to: ‘download’\n",
            "\n",
            "download            100%[===================>]  69.59M  19.5MB/s    in 3.6s    \n",
            "\n",
            "2019-12-06 21:02:55 (19.5 MB/s) - ‘download’ saved [72971322/72971322]\n",
            "\n"
          ],
          "name": "stdout"
        }
      ]
    },
    {
      "cell_type": "markdown",
      "metadata": {
        "id": "CrG8xSQabGCc",
        "colab_type": "text"
      },
      "source": [
        "### **Explore Dataset**"
      ]
    },
    {
      "cell_type": "code",
      "metadata": {
        "id": "AgVquOWgVSD9",
        "colab_type": "code",
        "colab": {}
      },
      "source": [
        "import pandas as pd\n",
        "import numpy as np"
      ],
      "execution_count": 0,
      "outputs": []
    },
    {
      "cell_type": "code",
      "metadata": {
        "id": "Vha55wmPVl-F",
        "colab_type": "code",
        "outputId": "085f1e37-11f6-4d02-897d-321cc5752aaa",
        "colab": {
          "base_uri": "https://localhost:8080/",
          "height": 195
        }
      },
      "source": [
        "list_parser = lambda x: x[1:-1].split(',')\n",
        "df = pd.read_csv(\"datasets/catalogue.tsv\",\n",
        "                        sep=\"\\t\",\n",
        "                        converters={'keywords': list_parser,\n",
        "                                    \"concepts\": list_parser})\n",
        "# This is added in case initial dataset hasn't the right columns names:\n",
        "df.columns = ['id', 'title', 'language', 'type', 'keywords', 'concepts']\n",
        "df.head(5)"
      ],
      "execution_count": 0,
      "outputs": [
        {
          "output_type": "execute_result",
          "data": {
            "text/html": [
              "<div>\n",
              "<style scoped>\n",
              "    .dataframe tbody tr th:only-of-type {\n",
              "        vertical-align: middle;\n",
              "    }\n",
              "\n",
              "    .dataframe tbody tr th {\n",
              "        vertical-align: top;\n",
              "    }\n",
              "\n",
              "    .dataframe thead th {\n",
              "        text-align: right;\n",
              "    }\n",
              "</style>\n",
              "<table border=\"1\" class=\"dataframe\">\n",
              "  <thead>\n",
              "    <tr style=\"text-align: right;\">\n",
              "      <th></th>\n",
              "      <th>id</th>\n",
              "      <th>title</th>\n",
              "      <th>language</th>\n",
              "      <th>type</th>\n",
              "      <th>keywords</th>\n",
              "      <th>concepts</th>\n",
              "    </tr>\n",
              "  </thead>\n",
              "  <tbody>\n",
              "    <tr>\n",
              "      <th>0</th>\n",
              "      <td>1228</td>\n",
              "      <td>Data, information, design and traffic injuries...</td>\n",
              "      <td>en</td>\n",
              "      <td>mp4</td>\n",
              "      <td>[design,  know,  information design,  people, ...</td>\n",
              "      <td>['http://en.wikipedia.org/wiki/Information_des...</td>\n",
              "    </tr>\n",
              "    <tr>\n",
              "      <th>1</th>\n",
              "      <td>4796</td>\n",
              "      <td>Uncertain Allies</td>\n",
              "      <td>en</td>\n",
              "      <td>pdf</td>\n",
              "      <td>[north korea,  korea,  china,  north,  pyongya...</td>\n",
              "      <td>['http://en.wikipedia.org/wiki/North_Korea',  ...</td>\n",
              "    </tr>\n",
              "    <tr>\n",
              "      <th>2</th>\n",
              "      <td>6930</td>\n",
              "      <td>Classification of Web Documents Using a Graph-...</td>\n",
              "      <td>en</td>\n",
              "      <td>mp4</td>\n",
              "      <td>[subgraph,  graph,  document,  contrast,  clas...</td>\n",
              "      <td>['http://en.wikipedia.org/wiki/Hello',  'http:...</td>\n",
              "    </tr>\n",
              "    <tr>\n",
              "      <th>3</th>\n",
              "      <td>7867</td>\n",
              "      <td>Cell and Molecular Neurobiology</td>\n",
              "      <td>en</td>\n",
              "      <td>pdf</td>\n",
              "      <td>[edition,  academic press,  molecular,  2nd ed...</td>\n",
              "      <td>['http://en.wikipedia.org/wiki/Massachusetts_I...</td>\n",
              "    </tr>\n",
              "    <tr>\n",
              "      <th>4</th>\n",
              "      <td>8160</td>\n",
              "      <td>Advanced Fluid Dynamics of the Environment</td>\n",
              "      <td>en</td>\n",
              "      <td>pdf</td>\n",
              "      <td>[fluid,  eddy viscosity,  result velocity,  fl...</td>\n",
              "      <td>['http://en.wikipedia.org/wiki/Homework',  'ht...</td>\n",
              "    </tr>\n",
              "  </tbody>\n",
              "</table>\n",
              "</div>"
            ],
            "text/plain": [
              "     id  ...                                           concepts\n",
              "0  1228  ...  ['http://en.wikipedia.org/wiki/Information_des...\n",
              "1  4796  ...  ['http://en.wikipedia.org/wiki/North_Korea',  ...\n",
              "2  6930  ...  ['http://en.wikipedia.org/wiki/Hello',  'http:...\n",
              "3  7867  ...  ['http://en.wikipedia.org/wiki/Massachusetts_I...\n",
              "4  8160  ...  ['http://en.wikipedia.org/wiki/Homework',  'ht...\n",
              "\n",
              "[5 rows x 6 columns]"
            ]
          },
          "metadata": {
            "tags": []
          },
          "execution_count": 3
        }
      ]
    },
    {
      "cell_type": "code",
      "metadata": {
        "id": "q5Hv40zzWMEU",
        "colab_type": "code",
        "outputId": "abf795a5-23fb-4d14-d37f-fe070edfc6c3",
        "colab": {
          "base_uri": "https://localhost:8080/",
          "height": 122
        }
      },
      "source": [
        "def MeanAndMedianArrayLength(df, colname):\n",
        "    mean = 0\n",
        "    median_tab = []\n",
        "    for i in range(0, len(df)):\n",
        "        add = len(df.loc[i,colname])\n",
        "        mean += add\n",
        "        median_tab.append(add)\n",
        "    mean = mean / len(df)\n",
        "    print(\"mean of \" + colname + \" numbers : \" + str(mean))\n",
        "    median_tab = np.sort(np.array(median_tab))\n",
        "    middle = int(len(median_tab)/2)\n",
        "    if len(median_tab) % 2 == 0:\n",
        "        print(\"median of \" + colname + \" numbers : \" + str((median_tab[middle-1] + median_tab[middle]) / 2) + \"\\n\")\n",
        "    else:\n",
        "        print(\"median of \" + colname + \" numbers : \" + str(median_tab[middle]) + \"\\n\")\n",
        "\n",
        "# mean concept and keywords number per document\n",
        "MeanAndMedianArrayLength(df, \"concepts\")\n",
        "MeanAndMedianArrayLength(df, \"keywords\")"
      ],
      "execution_count": 0,
      "outputs": [
        {
          "output_type": "stream",
          "text": [
            "mean of concepts numbers : 10.03375\n",
            "median of concepts numbers : 10.0\n",
            "\n",
            "mean of keywords numbers : 19.80065\n",
            "median of keywords numbers : 20.0\n",
            "\n"
          ],
          "name": "stdout"
        }
      ]
    },
    {
      "cell_type": "code",
      "metadata": {
        "id": "yp6--Zpzf2Tq",
        "colab_type": "code",
        "colab": {}
      },
      "source": [
        "# Eliminate languages different than \"en\"\n",
        "non_english = df[df.language != \"en\"].index.tolist()\n",
        "columns = df.columns\n",
        "new_df = []\n",
        "for i in range(0, len(df)):\n",
        "  if i not in non_english:\n",
        "    new_df.append(df.loc[i].tolist())\n",
        "df = pd.DataFrame(new_df, columns = columns) "
      ],
      "execution_count": 0,
      "outputs": []
    },
    {
      "cell_type": "code",
      "metadata": {
        "id": "f-k_0NEB6vbw",
        "colab_type": "code",
        "outputId": "8b231fbd-58ee-4782-ba46-3ba30f6b2420",
        "colab": {
          "base_uri": "https://localhost:8080/",
          "height": 402
        }
      },
      "source": [
        "df.head(-5)"
      ],
      "execution_count": 0,
      "outputs": [
        {
          "output_type": "execute_result",
          "data": {
            "text/html": [
              "<div>\n",
              "<style scoped>\n",
              "    .dataframe tbody tr th:only-of-type {\n",
              "        vertical-align: middle;\n",
              "    }\n",
              "\n",
              "    .dataframe tbody tr th {\n",
              "        vertical-align: top;\n",
              "    }\n",
              "\n",
              "    .dataframe thead th {\n",
              "        text-align: right;\n",
              "    }\n",
              "</style>\n",
              "<table border=\"1\" class=\"dataframe\">\n",
              "  <thead>\n",
              "    <tr style=\"text-align: right;\">\n",
              "      <th></th>\n",
              "      <th>id</th>\n",
              "      <th>title</th>\n",
              "      <th>language</th>\n",
              "      <th>type</th>\n",
              "      <th>keywords</th>\n",
              "      <th>concepts</th>\n",
              "    </tr>\n",
              "  </thead>\n",
              "  <tbody>\n",
              "    <tr>\n",
              "      <th>0</th>\n",
              "      <td>1228</td>\n",
              "      <td>Data, information, design and traffic injuries...</td>\n",
              "      <td>en</td>\n",
              "      <td>mp4</td>\n",
              "      <td>[design,  know,  information design,  people, ...</td>\n",
              "      <td>['http://en.wikipedia.org/wiki/Information_des...</td>\n",
              "    </tr>\n",
              "    <tr>\n",
              "      <th>1</th>\n",
              "      <td>4796</td>\n",
              "      <td>Uncertain Allies</td>\n",
              "      <td>en</td>\n",
              "      <td>pdf</td>\n",
              "      <td>[north korea,  korea,  china,  north,  pyongya...</td>\n",
              "      <td>['http://en.wikipedia.org/wiki/North_Korea',  ...</td>\n",
              "    </tr>\n",
              "    <tr>\n",
              "      <th>2</th>\n",
              "      <td>6930</td>\n",
              "      <td>Classification of Web Documents Using a Graph-...</td>\n",
              "      <td>en</td>\n",
              "      <td>mp4</td>\n",
              "      <td>[subgraph,  graph,  document,  contrast,  clas...</td>\n",
              "      <td>['http://en.wikipedia.org/wiki/Hello',  'http:...</td>\n",
              "    </tr>\n",
              "    <tr>\n",
              "      <th>3</th>\n",
              "      <td>7867</td>\n",
              "      <td>Cell and Molecular Neurobiology</td>\n",
              "      <td>en</td>\n",
              "      <td>pdf</td>\n",
              "      <td>[edition,  academic press,  molecular,  2nd ed...</td>\n",
              "      <td>['http://en.wikipedia.org/wiki/Massachusetts_I...</td>\n",
              "    </tr>\n",
              "    <tr>\n",
              "      <th>4</th>\n",
              "      <td>8160</td>\n",
              "      <td>Advanced Fluid Dynamics of the Environment</td>\n",
              "      <td>en</td>\n",
              "      <td>pdf</td>\n",
              "      <td>[fluid,  eddy viscosity,  result velocity,  fl...</td>\n",
              "      <td>['http://en.wikipedia.org/wiki/Homework',  'ht...</td>\n",
              "    </tr>\n",
              "    <tr>\n",
              "      <th>...</th>\n",
              "      <td>...</td>\n",
              "      <td>...</td>\n",
              "      <td>...</td>\n",
              "      <td>...</td>\n",
              "      <td>...</td>\n",
              "      <td>...</td>\n",
              "    </tr>\n",
              "    <tr>\n",
              "      <th>95191</th>\n",
              "      <td>102981</td>\n",
              "      <td>2.5 Motion Equations for Constant Acceleration...</td>\n",
              "      <td>en</td>\n",
              "      <td>html</td>\n",
              "      <td>[size,  rsub size,  rsub,  size rsub,  rsup,  ...</td>\n",
              "      <td>['http://en.wikipedia.org/wiki/Bracket',  'htt...</td>\n",
              "    </tr>\n",
              "    <tr>\n",
              "      <th>95192</th>\n",
              "      <td>103078</td>\n",
              "      <td>Test Prep for AP® Courses</td>\n",
              "      <td>en</td>\n",
              "      <td>html</td>\n",
              "      <td>[adhesion,  cohesion,  water,  water molecule,...</td>\n",
              "      <td>['http://en.wikipedia.org/wiki/Canning',  'htt...</td>\n",
              "    </tr>\n",
              "    <tr>\n",
              "      <th>95193</th>\n",
              "      <td>110586</td>\n",
              "      <td>Practice Test</td>\n",
              "      <td>en</td>\n",
              "      <td>html</td>\n",
              "      <td>[near tenth,  tenth,  inch,  near,  foot,  ang...</td>\n",
              "      <td>['http://en.wikipedia.org/wiki/Practice_of_law...</td>\n",
              "    </tr>\n",
              "    <tr>\n",
              "      <th>95194</th>\n",
              "      <td>113136</td>\n",
              "      <td>Working the Net</td>\n",
              "      <td>en</td>\n",
              "      <td>html</td>\n",
              "      <td>[manufacturers,  search engine,  supplier,  se...</td>\n",
              "      <td>['http://en.wikipedia.org/wiki/Use',  'http://...</td>\n",
              "    </tr>\n",
              "    <tr>\n",
              "      <th>95195</th>\n",
              "      <td>113341</td>\n",
              "      <td>Practice Test</td>\n",
              "      <td>en</td>\n",
              "      <td>html</td>\n",
              "      <td>[1x,  follow exercise,  function,  exercise,  ...</td>\n",
              "      <td>['http://en.wikipedia.org/wiki/Fornax',  'http...</td>\n",
              "    </tr>\n",
              "  </tbody>\n",
              "</table>\n",
              "<p>95196 rows × 6 columns</p>\n",
              "</div>"
            ],
            "text/plain": [
              "           id  ...                                           concepts\n",
              "0        1228  ...  ['http://en.wikipedia.org/wiki/Information_des...\n",
              "1        4796  ...  ['http://en.wikipedia.org/wiki/North_Korea',  ...\n",
              "2        6930  ...  ['http://en.wikipedia.org/wiki/Hello',  'http:...\n",
              "3        7867  ...  ['http://en.wikipedia.org/wiki/Massachusetts_I...\n",
              "4        8160  ...  ['http://en.wikipedia.org/wiki/Homework',  'ht...\n",
              "...       ...  ...                                                ...\n",
              "95191  102981  ...  ['http://en.wikipedia.org/wiki/Bracket',  'htt...\n",
              "95192  103078  ...  ['http://en.wikipedia.org/wiki/Canning',  'htt...\n",
              "95193  110586  ...  ['http://en.wikipedia.org/wiki/Practice_of_law...\n",
              "95194  113136  ...  ['http://en.wikipedia.org/wiki/Use',  'http://...\n",
              "95195  113341  ...  ['http://en.wikipedia.org/wiki/Fornax',  'http...\n",
              "\n",
              "[95196 rows x 6 columns]"
            ]
          },
          "metadata": {
            "tags": []
          },
          "execution_count": 6
        }
      ]
    },
    {
      "cell_type": "code",
      "metadata": {
        "id": "aeU32If6_brd",
        "colab_type": "code",
        "colab": {}
      },
      "source": [
        "df['title'] = df['title'].apply(lambda x : x.replace(\"\\n\", \" \"))\n",
        "df['title'] = df['title'].apply(lambda x : x.replace(\"\\\"\", \"\\\\n\"))"
      ],
      "execution_count": 0,
      "outputs": []
    },
    {
      "cell_type": "code",
      "metadata": {
        "id": "g04qBgPcAX6G",
        "colab_type": "code",
        "outputId": "d830d1b5-4a55-46a3-b844-240633d7668a",
        "colab": {
          "base_uri": "https://localhost:8080/",
          "height": 34
        }
      },
      "source": [
        "df[df.id == 1]['title'].iloc[0]"
      ],
      "execution_count": 0,
      "outputs": [
        {
          "output_type": "execute_result",
          "data": {
            "text/plain": [
              "'Slovenian Cinematheque, Vinegar Syndrome (On Problems of Film Tape Preservation) '"
            ]
          },
          "metadata": {
            "tags": []
          },
          "execution_count": 10
        }
      ]
    },
    {
      "cell_type": "markdown",
      "metadata": {
        "id": "iX1imUogXtqL",
        "colab_type": "text"
      },
      "source": [
        "### **How to request the fuseki's API**\n",
        "\n",
        "First install the module SPARQLWrapper with anaconda's terminal :\n",
        "- *Choose the right environnement*\n",
        "- *Write this piece of code : 'pip install SPARQLWrapper'*\n",
        "- *Documentation : https://rdflib.github.io/sparqlwrapper/*\n",
        "\n",
        "Next you need to deploy the Fuseki's server :\n",
        "- *Go to \"/fuseki_server/\" folder*\n",
        "- *Launch the \"/fuseki-server.bat*"
      ]
    },
    {
      "cell_type": "code",
      "metadata": {
        "id": "enxP9xlcYLD6",
        "colab_type": "code",
        "outputId": "839a4df8-81a8-41fa-d19e-66f981bc7724",
        "colab": {
          "base_uri": "https://localhost:8080/",
          "height": 105
        }
      },
      "source": [
        "!pip install SPARQLWrapper"
      ],
      "execution_count": 0,
      "outputs": [
        {
          "output_type": "stream",
          "text": [
            "Requirement already satisfied: SPARQLWrapper in /usr/local/lib/python3.6/dist-packages (1.8.4)\n",
            "Requirement already satisfied: rdflib>=4.0 in /usr/local/lib/python3.6/dist-packages (from SPARQLWrapper) (4.2.2)\n",
            "Requirement already satisfied: isodate in /usr/local/lib/python3.6/dist-packages (from rdflib>=4.0->SPARQLWrapper) (0.6.0)\n",
            "Requirement already satisfied: pyparsing in /usr/local/lib/python3.6/dist-packages (from rdflib>=4.0->SPARQLWrapper) (2.4.5)\n",
            "Requirement already satisfied: six in /usr/local/lib/python3.6/dist-packages (from isodate->rdflib>=4.0->SPARQLWrapper) (1.12.0)\n"
          ],
          "name": "stdout"
        }
      ]
    },
    {
      "cell_type": "code",
      "metadata": {
        "id": "i2jXwgggt_Tl",
        "colab_type": "code",
        "colab": {}
      },
      "source": [
        "from SPARQLWrapper import SPARQLWrapper, JSON\n",
        "\n",
        "server_URL = \"http://185.157.246.81:3030/x5gon/\"\n",
        "\n",
        "# function which create\n",
        "\n",
        "sparql = SPARQLWrapper(server_URL)"
      ],
      "execution_count": 0,
      "outputs": []
    },
    {
      "cell_type": "code",
      "metadata": {
        "id": "TDd4nvYaZEcb",
        "colab_type": "code",
        "outputId": "7ba8657b-c08f-444f-dc30-6ca03e82dab8",
        "colab": {
          "base_uri": "https://localhost:8080/",
          "height": 87
        }
      },
      "source": [
        "\n",
        "string_constructor = \"PREFIX dcterms: <http://purl.org/dc/terms/>\\nINSERT DATA{\"\n",
        "for i in range(0, len(df)):\n",
        "\n",
        "  # id\n",
        "  string_constructor += \"\\n   <http://x5gon/bjk/{}> dcterms:identifier {} ;\".format(df.loc[i, \"id\"],df.loc[i, \"id\"])\n",
        "  # type\n",
        "  string_constructor += \"\\n       dcterms:format {} ;\".format('\"' + df.loc[i, \"type\"] + '\"')\n",
        "  # titre\n",
        "  string_constructor += \"\\n       dcterms:title {} ;\".format('\"' + df.loc[i, \"title\"] + '\"')\n",
        "  # keywords\n",
        "  keywords = df.loc[i, \"keywords\"]\n",
        "  for j in range(0, len(keywords)):\n",
        "    if(j > 0):\n",
        "      string_constructor += \"\\n       dcterms:subject {} ;\".format('\"' + keywords[j][1:] + '\"')\n",
        "    else:\n",
        "      string_constructor += \"\\n       dcterms:subject {} ;\".format('\"' + keywords[j] + '\"')\n",
        "  # concept\n",
        "  concepts = df.loc[i, \"concepts\"]\n",
        "  for j in range(0, len(concepts)):\n",
        "    URI = concepts[j].split(\"/\")\n",
        "    URI = URI[len(URI)-1]\n",
        "    URI = URI[0:len(URI)-1]\n",
        "    string_constructor += \"\\n       dcterms:concept {} ;\".format('<' + \"http://dbpedia.org/resource/\" + URI + '>')\n",
        "  # language\n",
        "  string_constructor += \"\\n       dcterms:language {} .\".format('\"' + df.loc[i, \"language\"] + '\"')\n",
        "  if(i%200 == 0):\n",
        "    string_constructor += \"\\n}\"\n",
        "    #print(string_constructor)\n",
        "    sparql.setQuery(string_constructor)\n",
        "    sparql.setReturnFormat(JSON)\n",
        "\n",
        "    results = sparql.query().convert()\n",
        "    string_constructor = \"PREFIX dcterms: <http://purl.org/dc/terms/>\\nINSERT DATA{\"\n",
        "  "
      ],
      "execution_count": 0,
      "outputs": [
        {
          "output_type": "stream",
          "text": [
            "/usr/local/lib/python3.6/dist-packages/SPARQLWrapper/Wrapper.py:826: UserWarning: update operations MUST be done by POST\n",
            "  warnings.warn(\"update operations MUST be done by POST\")\n",
            "/usr/local/lib/python3.6/dist-packages/SPARQLWrapper/Wrapper.py:1150: RuntimeWarning: unknown response content type 'text/html;charset=utf-8' returning raw response...\n",
            "  warnings.warn(\"unknown response content type '%s' returning raw response...\" %(ct), RuntimeWarning)\n"
          ],
          "name": "stderr"
        }
      ]
    },
    {
      "cell_type": "code",
      "metadata": {
        "id": "M9OFOZa-w8ow",
        "colab_type": "code",
        "outputId": "1b29155e-88fe-44d0-bb79-3d1564e5743b",
        "colab": {
          "base_uri": "https://localhost:8080/"
        }
      },
      "source": [
        "print(string_constructor[:10000])"
      ],
      "execution_count": 0,
      "outputs": [
        {
          "output_type": "stream",
          "text": [
            "PREFIX dcterms: <http://purl.org/dc/terms/>\n",
            "INSERT DATA{\n"
          ],
          "name": "stdout"
        }
      ]
    },
    {
      "cell_type": "code",
      "metadata": {
        "id": "vQex92lF28oE",
        "colab_type": "code",
        "outputId": "791545d1-7817-4497-da51-3051913d51e1",
        "colab": {
          "base_uri": "https://localhost:8080/",
          "height": 546
        }
      },
      "source": [
        "sparql.setQuery(string_constructor)\n",
        "sparql.setReturnFormat(JSON)\n",
        "\n",
        "results = sparql.query().convert()\n",
        "\n",
        "for result in results[\"results\"][\"bindings\"]:\n",
        "    print(result[\"label\"][\"value\"])"
      ],
      "execution_count": 0,
      "outputs": [
        {
          "output_type": "stream",
          "text": [
            "/usr/local/lib/python3.6/dist-packages/SPARQLWrapper/Wrapper.py:826: UserWarning: update operations MUST be done by POST\n",
            "  warnings.warn(\"update operations MUST be done by POST\")\n"
          ],
          "name": "stderr"
        },
        {
          "output_type": "error",
          "ename": "QueryBadFormed",
          "evalue": "ignored",
          "traceback": [
            "\u001b[0;31m---------------------------------------------------------------------------\u001b[0m",
            "\u001b[0;31mHTTPError\u001b[0m                                 Traceback (most recent call last)",
            "\u001b[0;32m/usr/local/lib/python3.6/dist-packages/SPARQLWrapper/Wrapper.py\u001b[0m in \u001b[0;36m_query\u001b[0;34m(self)\u001b[0m\n\u001b[1;32m    892\u001b[0m             \u001b[0;32melse\u001b[0m\u001b[0;34m:\u001b[0m\u001b[0;34m\u001b[0m\u001b[0;34m\u001b[0m\u001b[0m\n\u001b[0;32m--> 893\u001b[0;31m                 \u001b[0mresponse\u001b[0m \u001b[0;34m=\u001b[0m \u001b[0murlopener\u001b[0m\u001b[0;34m(\u001b[0m\u001b[0mrequest\u001b[0m\u001b[0;34m)\u001b[0m\u001b[0;34m\u001b[0m\u001b[0;34m\u001b[0m\u001b[0m\n\u001b[0m\u001b[1;32m    894\u001b[0m             \u001b[0;32mreturn\u001b[0m \u001b[0mresponse\u001b[0m\u001b[0;34m,\u001b[0m \u001b[0mself\u001b[0m\u001b[0;34m.\u001b[0m\u001b[0mreturnFormat\u001b[0m\u001b[0;34m\u001b[0m\u001b[0;34m\u001b[0m\u001b[0m\n",
            "\u001b[0;32m/usr/lib/python3.6/urllib/request.py\u001b[0m in \u001b[0;36murlopen\u001b[0;34m(url, data, timeout, cafile, capath, cadefault, context)\u001b[0m\n\u001b[1;32m    222\u001b[0m         \u001b[0mopener\u001b[0m \u001b[0;34m=\u001b[0m \u001b[0m_opener\u001b[0m\u001b[0;34m\u001b[0m\u001b[0;34m\u001b[0m\u001b[0m\n\u001b[0;32m--> 223\u001b[0;31m     \u001b[0;32mreturn\u001b[0m \u001b[0mopener\u001b[0m\u001b[0;34m.\u001b[0m\u001b[0mopen\u001b[0m\u001b[0;34m(\u001b[0m\u001b[0murl\u001b[0m\u001b[0;34m,\u001b[0m \u001b[0mdata\u001b[0m\u001b[0;34m,\u001b[0m \u001b[0mtimeout\u001b[0m\u001b[0;34m)\u001b[0m\u001b[0;34m\u001b[0m\u001b[0;34m\u001b[0m\u001b[0m\n\u001b[0m\u001b[1;32m    224\u001b[0m \u001b[0;34m\u001b[0m\u001b[0m\n",
            "\u001b[0;32m/usr/lib/python3.6/urllib/request.py\u001b[0m in \u001b[0;36mopen\u001b[0;34m(self, fullurl, data, timeout)\u001b[0m\n\u001b[1;32m    531\u001b[0m             \u001b[0mmeth\u001b[0m \u001b[0;34m=\u001b[0m \u001b[0mgetattr\u001b[0m\u001b[0;34m(\u001b[0m\u001b[0mprocessor\u001b[0m\u001b[0;34m,\u001b[0m \u001b[0mmeth_name\u001b[0m\u001b[0;34m)\u001b[0m\u001b[0;34m\u001b[0m\u001b[0;34m\u001b[0m\u001b[0m\n\u001b[0;32m--> 532\u001b[0;31m             \u001b[0mresponse\u001b[0m \u001b[0;34m=\u001b[0m \u001b[0mmeth\u001b[0m\u001b[0;34m(\u001b[0m\u001b[0mreq\u001b[0m\u001b[0;34m,\u001b[0m \u001b[0mresponse\u001b[0m\u001b[0;34m)\u001b[0m\u001b[0;34m\u001b[0m\u001b[0;34m\u001b[0m\u001b[0m\n\u001b[0m\u001b[1;32m    533\u001b[0m \u001b[0;34m\u001b[0m\u001b[0m\n",
            "\u001b[0;32m/usr/lib/python3.6/urllib/request.py\u001b[0m in \u001b[0;36mhttp_response\u001b[0;34m(self, request, response)\u001b[0m\n\u001b[1;32m    641\u001b[0m             response = self.parent.error(\n\u001b[0;32m--> 642\u001b[0;31m                 'http', request, response, code, msg, hdrs)\n\u001b[0m\u001b[1;32m    643\u001b[0m \u001b[0;34m\u001b[0m\u001b[0m\n",
            "\u001b[0;32m/usr/lib/python3.6/urllib/request.py\u001b[0m in \u001b[0;36merror\u001b[0;34m(self, proto, *args)\u001b[0m\n\u001b[1;32m    569\u001b[0m             \u001b[0margs\u001b[0m \u001b[0;34m=\u001b[0m \u001b[0;34m(\u001b[0m\u001b[0mdict\u001b[0m\u001b[0;34m,\u001b[0m \u001b[0;34m'default'\u001b[0m\u001b[0;34m,\u001b[0m \u001b[0;34m'http_error_default'\u001b[0m\u001b[0;34m)\u001b[0m \u001b[0;34m+\u001b[0m \u001b[0morig_args\u001b[0m\u001b[0;34m\u001b[0m\u001b[0;34m\u001b[0m\u001b[0m\n\u001b[0;32m--> 570\u001b[0;31m             \u001b[0;32mreturn\u001b[0m \u001b[0mself\u001b[0m\u001b[0;34m.\u001b[0m\u001b[0m_call_chain\u001b[0m\u001b[0;34m(\u001b[0m\u001b[0;34m*\u001b[0m\u001b[0margs\u001b[0m\u001b[0;34m)\u001b[0m\u001b[0;34m\u001b[0m\u001b[0;34m\u001b[0m\u001b[0m\n\u001b[0m\u001b[1;32m    571\u001b[0m \u001b[0;34m\u001b[0m\u001b[0m\n",
            "\u001b[0;32m/usr/lib/python3.6/urllib/request.py\u001b[0m in \u001b[0;36m_call_chain\u001b[0;34m(self, chain, kind, meth_name, *args)\u001b[0m\n\u001b[1;32m    503\u001b[0m             \u001b[0mfunc\u001b[0m \u001b[0;34m=\u001b[0m \u001b[0mgetattr\u001b[0m\u001b[0;34m(\u001b[0m\u001b[0mhandler\u001b[0m\u001b[0;34m,\u001b[0m \u001b[0mmeth_name\u001b[0m\u001b[0;34m)\u001b[0m\u001b[0;34m\u001b[0m\u001b[0;34m\u001b[0m\u001b[0m\n\u001b[0;32m--> 504\u001b[0;31m             \u001b[0mresult\u001b[0m \u001b[0;34m=\u001b[0m \u001b[0mfunc\u001b[0m\u001b[0;34m(\u001b[0m\u001b[0;34m*\u001b[0m\u001b[0margs\u001b[0m\u001b[0;34m)\u001b[0m\u001b[0;34m\u001b[0m\u001b[0;34m\u001b[0m\u001b[0m\n\u001b[0m\u001b[1;32m    505\u001b[0m             \u001b[0;32mif\u001b[0m \u001b[0mresult\u001b[0m \u001b[0;32mis\u001b[0m \u001b[0;32mnot\u001b[0m \u001b[0;32mNone\u001b[0m\u001b[0;34m:\u001b[0m\u001b[0;34m\u001b[0m\u001b[0;34m\u001b[0m\u001b[0m\n",
            "\u001b[0;32m/usr/lib/python3.6/urllib/request.py\u001b[0m in \u001b[0;36mhttp_error_default\u001b[0;34m(self, req, fp, code, msg, hdrs)\u001b[0m\n\u001b[1;32m    649\u001b[0m     \u001b[0;32mdef\u001b[0m \u001b[0mhttp_error_default\u001b[0m\u001b[0;34m(\u001b[0m\u001b[0mself\u001b[0m\u001b[0;34m,\u001b[0m \u001b[0mreq\u001b[0m\u001b[0;34m,\u001b[0m \u001b[0mfp\u001b[0m\u001b[0;34m,\u001b[0m \u001b[0mcode\u001b[0m\u001b[0;34m,\u001b[0m \u001b[0mmsg\u001b[0m\u001b[0;34m,\u001b[0m \u001b[0mhdrs\u001b[0m\u001b[0;34m)\u001b[0m\u001b[0;34m:\u001b[0m\u001b[0;34m\u001b[0m\u001b[0;34m\u001b[0m\u001b[0m\n\u001b[0;32m--> 650\u001b[0;31m         \u001b[0;32mraise\u001b[0m \u001b[0mHTTPError\u001b[0m\u001b[0;34m(\u001b[0m\u001b[0mreq\u001b[0m\u001b[0;34m.\u001b[0m\u001b[0mfull_url\u001b[0m\u001b[0;34m,\u001b[0m \u001b[0mcode\u001b[0m\u001b[0;34m,\u001b[0m \u001b[0mmsg\u001b[0m\u001b[0;34m,\u001b[0m \u001b[0mhdrs\u001b[0m\u001b[0;34m,\u001b[0m \u001b[0mfp\u001b[0m\u001b[0;34m)\u001b[0m\u001b[0;34m\u001b[0m\u001b[0;34m\u001b[0m\u001b[0m\n\u001b[0m\u001b[1;32m    651\u001b[0m \u001b[0;34m\u001b[0m\u001b[0m\n",
            "\u001b[0;31mHTTPError\u001b[0m: HTTP Error 400: Encountered \"<EOF>\" at line 2, column 12.?Was expecting one of:?    <IRIref> ...?    <PNAME_NS> ...?    <PNAME_LN> ...?    <BLANK_NODE_LABEL> ...?    <VAR1> ...?    <VAR2> ...?    \"graph\" ...?    \"true\" ...?    \"false\" ...?    <INTEGER> ...?    <DECIMAL> ...?    <DOUBLE> ...?    <INTEGER_POSITIVE> ...?    <DECIMAL_POSITIVE> ...?    <DOUBLE_POSITIVE> ...?    <INTEGER_NEGATIVE> ...?    <DECIMAL_NEGATIVE> ...?    <DOUBLE_NEGATIVE> ...?    <STRING_LITERAL1> ...?    <STRING_LITERAL2> ...?    <STRING_LITERAL_LONG1> ...?    <STRING_LITERAL_LONG2> ...?    \"(\" ...?    <NIL> ...?    \"}\" ...?    \"[\" ...?    <ANON> ...?",
            "\nDuring handling of the above exception, another exception occurred:\n",
            "\u001b[0;31mQueryBadFormed\u001b[0m                            Traceback (most recent call last)",
            "\u001b[0;32m<ipython-input-12-870728747cd0>\u001b[0m in \u001b[0;36m<module>\u001b[0;34m()\u001b[0m\n\u001b[1;32m      2\u001b[0m \u001b[0msparql\u001b[0m\u001b[0;34m.\u001b[0m\u001b[0msetReturnFormat\u001b[0m\u001b[0;34m(\u001b[0m\u001b[0mJSON\u001b[0m\u001b[0;34m)\u001b[0m\u001b[0;34m\u001b[0m\u001b[0;34m\u001b[0m\u001b[0m\n\u001b[1;32m      3\u001b[0m \u001b[0;34m\u001b[0m\u001b[0m\n\u001b[0;32m----> 4\u001b[0;31m \u001b[0mresults\u001b[0m \u001b[0;34m=\u001b[0m \u001b[0msparql\u001b[0m\u001b[0;34m.\u001b[0m\u001b[0mquery\u001b[0m\u001b[0;34m(\u001b[0m\u001b[0;34m)\u001b[0m\u001b[0;34m.\u001b[0m\u001b[0mconvert\u001b[0m\u001b[0;34m(\u001b[0m\u001b[0;34m)\u001b[0m\u001b[0;34m\u001b[0m\u001b[0;34m\u001b[0m\u001b[0m\n\u001b[0m\u001b[1;32m      5\u001b[0m \u001b[0;34m\u001b[0m\u001b[0m\n\u001b[1;32m      6\u001b[0m \u001b[0;32mfor\u001b[0m \u001b[0mresult\u001b[0m \u001b[0;32min\u001b[0m \u001b[0mresults\u001b[0m\u001b[0;34m[\u001b[0m\u001b[0;34m\"results\"\u001b[0m\u001b[0;34m]\u001b[0m\u001b[0;34m[\u001b[0m\u001b[0;34m\"bindings\"\u001b[0m\u001b[0;34m]\u001b[0m\u001b[0;34m:\u001b[0m\u001b[0;34m\u001b[0m\u001b[0;34m\u001b[0m\u001b[0m\n",
            "\u001b[0;32m/usr/local/lib/python3.6/dist-packages/SPARQLWrapper/Wrapper.py\u001b[0m in \u001b[0;36mquery\u001b[0;34m(self)\u001b[0m\n\u001b[1;32m    925\u001b[0m             \u001b[0;34m@\u001b[0m\u001b[0mrtype\u001b[0m\u001b[0;34m:\u001b[0m \u001b[0mL\u001b[0m\u001b[0;34m{\u001b[0m\u001b[0mQueryResult\u001b[0m\u001b[0;34m}\u001b[0m \u001b[0minstance\u001b[0m\u001b[0;34m\u001b[0m\u001b[0;34m\u001b[0m\u001b[0m\n\u001b[1;32m    926\u001b[0m         \"\"\"\n\u001b[0;32m--> 927\u001b[0;31m         \u001b[0;32mreturn\u001b[0m \u001b[0mQueryResult\u001b[0m\u001b[0;34m(\u001b[0m\u001b[0mself\u001b[0m\u001b[0;34m.\u001b[0m\u001b[0m_query\u001b[0m\u001b[0;34m(\u001b[0m\u001b[0;34m)\u001b[0m\u001b[0;34m)\u001b[0m\u001b[0;34m\u001b[0m\u001b[0;34m\u001b[0m\u001b[0m\n\u001b[0m\u001b[1;32m    928\u001b[0m \u001b[0;34m\u001b[0m\u001b[0m\n\u001b[1;32m    929\u001b[0m     \u001b[0;32mdef\u001b[0m \u001b[0mqueryAndConvert\u001b[0m\u001b[0;34m(\u001b[0m\u001b[0mself\u001b[0m\u001b[0;34m)\u001b[0m\u001b[0;34m:\u001b[0m\u001b[0;34m\u001b[0m\u001b[0;34m\u001b[0m\u001b[0m\n",
            "\u001b[0;32m/usr/local/lib/python3.6/dist-packages/SPARQLWrapper/Wrapper.py\u001b[0m in \u001b[0;36m_query\u001b[0;34m(self)\u001b[0m\n\u001b[1;32m    895\u001b[0m         \u001b[0;32mexcept\u001b[0m \u001b[0murllib\u001b[0m\u001b[0;34m.\u001b[0m\u001b[0merror\u001b[0m\u001b[0;34m.\u001b[0m\u001b[0mHTTPError\u001b[0m \u001b[0;32mas\u001b[0m \u001b[0me\u001b[0m\u001b[0;34m:\u001b[0m\u001b[0;34m\u001b[0m\u001b[0;34m\u001b[0m\u001b[0m\n\u001b[1;32m    896\u001b[0m             \u001b[0;32mif\u001b[0m \u001b[0me\u001b[0m\u001b[0;34m.\u001b[0m\u001b[0mcode\u001b[0m \u001b[0;34m==\u001b[0m \u001b[0;36m400\u001b[0m\u001b[0;34m:\u001b[0m\u001b[0;34m\u001b[0m\u001b[0;34m\u001b[0m\u001b[0m\n\u001b[0;32m--> 897\u001b[0;31m                 \u001b[0;32mraise\u001b[0m \u001b[0mQueryBadFormed\u001b[0m\u001b[0;34m(\u001b[0m\u001b[0me\u001b[0m\u001b[0;34m.\u001b[0m\u001b[0mread\u001b[0m\u001b[0;34m(\u001b[0m\u001b[0;34m)\u001b[0m\u001b[0;34m)\u001b[0m\u001b[0;34m\u001b[0m\u001b[0;34m\u001b[0m\u001b[0m\n\u001b[0m\u001b[1;32m    898\u001b[0m             \u001b[0;32melif\u001b[0m \u001b[0me\u001b[0m\u001b[0;34m.\u001b[0m\u001b[0mcode\u001b[0m \u001b[0;34m==\u001b[0m \u001b[0;36m404\u001b[0m\u001b[0;34m:\u001b[0m\u001b[0;34m\u001b[0m\u001b[0;34m\u001b[0m\u001b[0m\n\u001b[1;32m    899\u001b[0m                 \u001b[0;32mraise\u001b[0m \u001b[0mEndPointNotFound\u001b[0m\u001b[0;34m(\u001b[0m\u001b[0me\u001b[0m\u001b[0;34m.\u001b[0m\u001b[0mread\u001b[0m\u001b[0;34m(\u001b[0m\u001b[0;34m)\u001b[0m\u001b[0;34m)\u001b[0m\u001b[0;34m\u001b[0m\u001b[0;34m\u001b[0m\u001b[0m\n",
            "\u001b[0;31mQueryBadFormed\u001b[0m: QueryBadFormed: a bad request has been sent to the endpoint, probably the sparql query is bad formed. \n\nResponse:\nb'Error 400: Encountered \"<EOF>\" at line 2, column 12.\\nWas expecting one of:\\n    <IRIref> ...\\n    <PNAME_NS> ...\\n    <PNAME_LN> ...\\n    <BLANK_NODE_LABEL> ...\\n    <VAR1> ...\\n    <VAR2> ...\\n    \"graph\" ...\\n    \"true\" ...\\n    \"false\" ...\\n    <INTEGER> ...\\n    <DECIMAL> ...\\n    <DOUBLE> ...\\n    <INTEGER_POSITIVE> ...\\n    <DECIMAL_POSITIVE> ...\\n    <DOUBLE_POSITIVE> ...\\n    <INTEGER_NEGATIVE> ...\\n    <DECIMAL_NEGATIVE> ...\\n    <DOUBLE_NEGATIVE> ...\\n    <STRING_LITERAL1> ...\\n    <STRING_LITERAL2> ...\\n    <STRING_LITERAL_LONG1> ...\\n    <STRING_LITERAL_LONG2> ...\\n    \"(\" ...\\n    <NIL> ...\\n    \"}\" ...\\n    \"[\" ...\\n    <ANON> ...\\n    \\n'"
          ]
        }
      ]
    }
  ]
}